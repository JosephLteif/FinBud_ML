{
 "cells": [
  {
   "cell_type": "code",
   "execution_count": null,
   "metadata": {
    "pycharm": {
     "is_executing": true
    }
   },
   "outputs": [],
   "source": [
    "from faker import Faker\n",
    "import csv\n",
    "import matplotlib.pyplot as plt\n",
    "import numpy as np\n",
    "import random\n",
    "import calendar"
   ]
  },
  {
   "cell_type": "code",
   "execution_count": 61,
   "metadata": {},
   "outputs": [],
   "source": [
    "class Person:\n",
    "    def __init__(self, name, address, savings, age, debt, debt_Pay_Rate, savings_Pay_Rate, isMarried):\n",
    "        self.name = name\n",
    "        self.address = address\n",
    "        self.age = age\n",
    "        self.savings = savings\n",
    "        self.debt = debt\n",
    "        self.debt_Pay_Rate = debt_Pay_Rate\n",
    "        self.savings_Pay_Rate = savings_Pay_Rate\n",
    "        self.isMarried = isMarried"
   ]
  },
  {
   "cell_type": "code",
   "execution_count": 62,
   "metadata": {},
   "outputs": [],
   "source": [
    "fake = Faker()\n",
    "\n",
    "# Create an empty list to store the Person objects\n",
    "people = []\n",
    "\n",
    "# Use a loop to create 10 Person objects\n",
    "for i in range(20):\n",
    "    name = fake.name()\n",
    "    isMarried = random.choice([\"yes\", \"no\"])\n",
    "    address = fake.address()\n",
    "    debt = 0\n",
    "    savings = 0\n",
    "    age = random.uniform(18, 65)\n",
    "    debt_Pay_Rate = random.uniform(0, 0.5)\n",
    "    savings_Pay_Rate = 1 - debt_Pay_Rate - 0.2\n",
    "    person = Person(name, address, savings, age, debt, debt_Pay_Rate, savings_Pay_Rate, isMarried)  # Create a new Person object\n",
    "    people.append(person)  # Add the Person object to the list\n",
    "\n",
    "\n",
    "transactions = []\n",
    "years = []\n",
    "for year in range(1980, 2020):\n",
    "    years.append(year)\n",
    "holiday_months = [\"January\", \"April\", \"December\"]\n",
    "month_names = list(calendar.month_name)\n",
    "month_names.remove(\"\")\n"
   ]
  },
  {
   "cell_type": "code",
   "execution_count": 63,
   "metadata": {},
   "outputs": [],
   "source": [
    "\n",
    "for year in years:\n",
    "    for month in month_names:\n",
    "        for person in people:\n",
    "            Person = person\n",
    "            age = Person.age\n",
    "            if month in holiday_months:\n",
    "                amount = random.uniform(-1200, 300)\n",
    "            else:\n",
    "                amount = random.uniform(-300, 1200)\n",
    "            if Person.isMarried:\n",
    "                amount = amount * 1.13\n",
    "            if amount < 0: \n",
    "                debtPay = -amount\n",
    "                savingsPay = 0\n",
    "                remaining = 0\n",
    "                Person.debt = Person.debt + debtPay\n",
    "                debtPay = 0\n",
    "                # if debtPay > Person.savings:\n",
    "                #     Person.debt = Person.debt + debtPay - Person.savings\n",
    "                #     Person.savings = 0\n",
    "                # else:\n",
    "                #     Person.savings = Person.savings - debtPay\n",
    "                #     Person.debt = 0\n",
    "                   \n",
    "            else:\n",
    "                debtPay = amount*Person.debt_Pay_Rate\n",
    "                savingsPay = amount*Person.savings_Pay_Rate\n",
    "                remaining = amount*(1-Person.debt_Pay_Rate-Person.savings_Pay_Rate)\n",
    "                Person.debt = Person.debt - debtPay\n",
    "                \n",
    "                \n",
    "            if Person.debt < 0:\n",
    "                Person.debt = 0\n",
    "            Person.savings = Person.savings + savingsPay\n",
    "            location = Person.address\n",
    "            transactions.append({\n",
    "                'name': Person.name,\n",
    "                'month': month,\n",
    "                'location': location,\n",
    "                'total': float(amount),\n",
    "                'remaining': float(remaining),\n",
    "                'age': int(Person.age),\n",
    "                'year': year,\n",
    "                'total debt': Person.debt,\n",
    "                'total savings': Person.savings,\n",
    "                \"isMarried\": isMarried,\n",
    "                'pay towards savings': float(savingsPay),\n",
    "                'pay towards debts': float(debtPay)\n",
    "            })\n"
   ]
  },
  {
   "cell_type": "code",
   "execution_count": 64,
   "metadata": {},
   "outputs": [],
   "source": [
    "# Open the CSV file\n",
    "with open('synthetic_data.csv', 'w', newline='') as csvfile:\n",
    "    # Create a CSV writer\n",
    "    writer = csv.writer(csvfile)\n",
    "    \n",
    "    # Write the header row\n",
    "    writer.writerow(['Name', 'Age', 'Address', 'Total', 'Remaining', 'Month', 'Year', 'Total Debt', 'Total Savings', 'isMarried', 'pay towards savings', 'pay towards debts'])\n",
    "    \n",
    "    # Write the data rows\n",
    "    for transaction in transactions:\n",
    "        writer.writerow([transaction['name'], transaction['age'], transaction['location'], transaction['total'], transaction['remaining'], transaction['month'], transaction['year'], transaction['total debt'], transaction['total savings'], transaction['isMarried'], transaction['pay towards savings'], transaction['pay towards debts']])"
   ]
  }
 ],
 "metadata": {
  "kernelspec": {
   "display_name": "Python 3.10.7 64-bit",
   "language": "python",
   "name": "python3"
  },
  "language_info": {
   "codemirror_mode": {
    "name": "ipython",
    "version": 3
   },
   "file_extension": ".py",
   "mimetype": "text/x-python",
   "name": "python",
   "nbconvert_exporter": "python",
   "pygments_lexer": "ipython3",
   "version": "3.10.7"
  },
  "orig_nbformat": 4,
  "vscode": {
   "interpreter": {
    "hash": "46034d8efcadcb380e2d4c4ee07a99679ea67015f723452425b814b081fb563a"
   }
  }
 },
 "nbformat": 4,
 "nbformat_minor": 2
}
